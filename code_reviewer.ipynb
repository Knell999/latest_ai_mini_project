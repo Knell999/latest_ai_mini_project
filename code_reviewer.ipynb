{
 "nbformat": 4,
 "nbformat_minor": 0,
 "metadata": {
  "colab": {
   "provenance": [],
   "gpuType": "T4"
  },
  "kernelspec": {
   "name": "python3",
   "display_name": "Python 3"
  },
  "language_info": {
   "name": "python"
  },
  "accelerator": "GPU"
 },
 "cells": [
  {
   "cell_type": "code",
   "source": [
    "!pip install openai"
   ],
   "metadata": {
    "colab": {
     "base_uri": "https://localhost:8080/"
    },
    "id": "G1sSE-GgSyvv",
    "outputId": "ef33bb25-ab16-4e91-e565-af948a0b37ce"
   },
   "execution_count": 7,
   "outputs": [
    {
     "output_type": "stream",
     "name": "stdout",
     "text": [
      "Requirement already satisfied: openai in /usr/local/lib/python3.10/dist-packages (0.28.0)\n",
      "Requirement already satisfied: requests>=2.20 in /usr/local/lib/python3.10/dist-packages (from openai) (2.32.3)\n",
      "Requirement already satisfied: tqdm in /usr/local/lib/python3.10/dist-packages (from openai) (4.66.6)\n",
      "Requirement already satisfied: aiohttp in /usr/local/lib/python3.10/dist-packages (from openai) (3.10.10)\n",
      "Requirement already satisfied: charset-normalizer<4,>=2 in /usr/local/lib/python3.10/dist-packages (from requests>=2.20->openai) (3.4.0)\n",
      "Requirement already satisfied: idna<4,>=2.5 in /usr/local/lib/python3.10/dist-packages (from requests>=2.20->openai) (3.10)\n",
      "Requirement already satisfied: urllib3<3,>=1.21.1 in /usr/local/lib/python3.10/dist-packages (from requests>=2.20->openai) (2.2.3)\n",
      "Requirement already satisfied: certifi>=2017.4.17 in /usr/local/lib/python3.10/dist-packages (from requests>=2.20->openai) (2024.8.30)\n",
      "Requirement already satisfied: aiohappyeyeballs>=2.3.0 in /usr/local/lib/python3.10/dist-packages (from aiohttp->openai) (2.4.3)\n",
      "Requirement already satisfied: aiosignal>=1.1.2 in /usr/local/lib/python3.10/dist-packages (from aiohttp->openai) (1.3.1)\n",
      "Requirement already satisfied: attrs>=17.3.0 in /usr/local/lib/python3.10/dist-packages (from aiohttp->openai) (24.2.0)\n",
      "Requirement already satisfied: frozenlist>=1.1.1 in /usr/local/lib/python3.10/dist-packages (from aiohttp->openai) (1.5.0)\n",
      "Requirement already satisfied: multidict<7.0,>=4.5 in /usr/local/lib/python3.10/dist-packages (from aiohttp->openai) (6.1.0)\n",
      "Requirement already satisfied: yarl<2.0,>=1.12.0 in /usr/local/lib/python3.10/dist-packages (from aiohttp->openai) (1.17.1)\n",
      "Requirement already satisfied: async-timeout<5.0,>=4.0 in /usr/local/lib/python3.10/dist-packages (from aiohttp->openai) (4.0.3)\n",
      "Requirement already satisfied: typing-extensions>=4.1.0 in /usr/local/lib/python3.10/dist-packages (from multidict<7.0,>=4.5->aiohttp->openai) (4.12.2)\n",
      "Requirement already satisfied: propcache>=0.2.0 in /usr/local/lib/python3.10/dist-packages (from yarl<2.0,>=1.12.0->aiohttp->openai) (0.2.0)\n"
     ]
    }
   ]
  },
  {
   "cell_type": "code",
   "source": [
    "import openai\n",
    "\n",
    "# API 키 설정\n",
    "KEY = '' #git 처리 이슈로 삭제\n",
    "openai.api_key = KEY\n"
   ],
   "metadata": {
    "id": "iwrPlY0FSz0Y"
   },
   "execution_count": 8,
   "outputs": []
  },
  {
   "cell_type": "code",
   "source": [
    "def code_review_helper(code_snippet):\n",
    "    \"\"\"\n",
    "    사용자 코드에 대한 다각적인 분석과 최적화 제안을 제공합니다.\n",
    "    - 코드 오류, 스타일, 성능, 리팩토링, 테스트 케이스 생성, 복잡도 분석 포함.\n",
    "    \"\"\"\n",
    "    # 사용자 코드에 대한 설명과 최적화 힌트를 요청하는 프롬프트 생성\n",
    "    messages = [\n",
    "        {\"role\": \"system\", \"content\": \"\"\"\n",
    "        You are a coding assistant specializing in code review.\n",
    "        You will provide feedback categorized into 'Errors', 'Style and Convention', 'Performance Optimization',\n",
    "        'Refactoring Suggestions', and 'Test Cases'.\n",
    "        Also, provide a time and space complexity analysis for the given code.\n",
    "        Please reply into korean\n",
    "        \"\"\"},\n",
    "        {\"role\": \"user\", \"content\": f\"Here's the code snippet:\\n{code_snippet}\\nPlease provide an analysis.\"}\n",
    "    ]\n",
    "\n",
    "    # OpenAI API를 사용하여 응답 생성\n",
    "    response = openai.ChatCompletion.create(\n",
    "        model=\"gpt-3.5-turbo\",\n",
    "        messages=messages\n",
    "    )\n",
    "\n",
    "    # 응답 메시지 반환\n",
    "    return response.choices[0].message.content\n"
   ],
   "metadata": {
    "id": "jp2Is7ebTEfo"
   },
   "execution_count": 9,
   "outputs": []
  },
  {
   "cell_type": "code",
   "source": [
    "def feedback_collection(response):\n",
    "    \"\"\"\n",
    "    사용자 피드백 수집하여 개선할 수 있는 방안 확인.\n",
    "    \"\"\"\n",
    "    user_feedback = input(\"\\nDo you find this feedback helpful? (yes/no): \")\n",
    "    if user_feedback.lower() == \"no\":\n",
    "        suggestions = input(\"Please provide suggestions for improvement: \")\n",
    "        print(\"\\nThank you! Your feedback will be used to improve the review quality.\")\n",
    "    else:\n",
    "        print(\"\\nGlad to know the feedback was helpful!\")\n"
   ],
   "metadata": {
    "id": "cAk3WJi1Twci"
   },
   "execution_count": 10,
   "outputs": []
  },
  {
   "cell_type": "code",
   "source": [
    "user_code = \"\"\"\n",
    "def find_max(numbers):\n",
    "    max_number = 0  # 올바르지 않은 초기값\n",
    "    for number in numbers:\n",
    "        if number > max_number:\n",
    "            max_number = number\n",
    "    return max_number\n",
    "\"\"\"\n"
   ],
   "metadata": {
    "id": "B0gViu2OTy0z"
   },
   "execution_count": 13,
   "outputs": []
  },
  {
   "cell_type": "code",
   "source": [
    "# 코드 리뷰 도우미 호출\n",
    "review_result = code_review_helper(user_code)\n",
    "\n",
    "# 결과 출력\n",
    "print(\"Code Review Result:\")\n",
    "print(review_result)\n",
    "\n",
    "# 사용자 피드백 수집\n",
    "feedback_collection(review_result)\n"
   ],
   "metadata": {
    "colab": {
     "base_uri": "https://localhost:8080/"
    },
    "id": "cJ4V1Ze8TzUH",
    "outputId": "6833ec20-9725-402b-8079-f43247daf8fd"
   },
   "execution_count": 14,
   "outputs": [
    {
     "output_type": "stream",
     "name": "stdout",
     "text": [
      "Code Review Result:\n",
      "이 코드의 분석은 다음과 같습니다:\n",
      "1. 오류:\n",
      "   - max_number의 초기값이 0으로 설정되어 있어, 주어진 숫자 리스트에 음수가 포함되어 있을 때 올바른 최대값을 찾지 못할 수 있습니다. 최소값으로 초기화하는 것이 더 안전합니다.\n",
      "   \n",
      "2. 스타일과 규칙:\n",
      "   - 함수와 변수의 명명은 명확하고 이해하기 쉽게 잘되었습니다.\n",
      "   - 코드의 들여쓰기가 일관되고 가독성이 좋습니다.\n",
      "   \n",
      "3. 성능 최적화:\n",
      "   - 주어진 코드는 이미 최적화되어 있으며, 주어진 숫자 리스트의 길이에 선형적으로 실행됩니다.\n",
      "   \n",
      "4. 리팩터링 제안:\n",
      "   - 초기값을 최소값으로 설정하는 것이 더 안전하며, 이 경우 max_number = float('-inf')와 같이 할당할 수 있습니다.\n",
      "   \n",
      "5. 테스트 케이스:\n",
      "   - 함수에 다양한 종류의 숫자 리스트를 사용하여 테스트하는 것이 좋습니다. 음수, 중복값, 빈 리스트 등에 대한 테스트가 필요합니다.\n",
      "\n",
      "시간 복잡도: O(n) - 주어진 숫자 리스트의 모든 요소를 한 번씩만 확인합니다.\n",
      "공간 복잡도: O(1) - 고정된 공간을 사용하므로 입력 크기에 관계없이 일정한 양의 공간을 사용합니다.\n",
      "\n",
      "Do you find this feedback helpful? (yes/no): yes\n",
      "\n",
      "Glad to know the feedback was helpful!\n"
     ]
    }
   ]
  }
 ]
}
